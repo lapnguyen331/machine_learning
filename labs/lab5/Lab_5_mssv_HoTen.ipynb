{
  "nbformat": 4,
  "nbformat_minor": 0,
  "metadata": {
    "colab": {
      "provenance": []
    },
    "kernelspec": {
      "name": "python3",
      "display_name": "Python 3"
    },
    "language_info": {
      "name": "python"
    }
  },
  "cells": [
    {
      "cell_type": "markdown",
      "source": [
        "# This lab is to deal with **SVM** to classification tasks and compare its performance with other competitive algorithms. In general, **SVM** is one of the most popular and widely used supervised machine learning algorithms.\n",
        "\n",
        "*   **Deadline: 23:59, 08/04/2024**\n",
        "\n"
      ],
      "metadata": {
        "id": "LMzehe0sy5wr"
      }
    },
    {
      "cell_type": "code",
      "source": [
        "from google.colab import drive\n",
        "drive.mount('/content/gdrive')\n",
        "%cd '/content/gdrive/MyDrive/???'"
      ],
      "metadata": {
        "id": "L5JsNZAUsdI4"
      },
      "execution_count": null,
      "outputs": []
    },
    {
      "cell_type": "markdown",
      "source": [
        "# Import libraries"
      ],
      "metadata": {
        "id": "H4nJmxp9zGX4"
      }
    },
    {
      "cell_type": "code",
      "execution_count": null,
      "metadata": {
        "id": "DoVWQ8AEyc-C"
      },
      "outputs": [],
      "source": [
        "# code\n",
        "import numpy as np\n",
        "import pandas as pd\n",
        "import matplotlib.pyplot as plt\n",
        "import seaborn as sns\n",
        "import seaborn as sns\n",
        "import matplotlib.ticker as ticker\n",
        "from sklearn import metrics\n",
        "from sklearn.model_selection import train_test_split\n",
        "import matplotlib.pylab as plt\n",
        "from sklearn import svm\n",
        "from sklearn.neighbors import KNeighborsClassifier\n",
        "from sklearn.linear_model import LinearRegression,LogisticRegression\n",
        "from sklearn.tree import DecisionTreeClassifier\n",
        "from sklearn.metrics import classification_report, confusion_matrix\n",
        "from prettytable import PrettyTable\n",
        "from sklearn.metrics import accuracy_score\n",
        "from sklearn.metrics import precision_score\n",
        "from sklearn.metrics import recall_score\n",
        "from sklearn.metrics import f1_score\n",
        "\n",
        "%pylab inline\n",
        "#%run Utils.ipynb\n",
        "# Warnings configuration\n",
        "# ==============================================================================\n",
        "import warnings\n",
        "# warnings.filterwarnings('ignore')\n"
      ]
    },
    {
      "cell_type": "markdown",
      "source": [
        "#Task 1.\n",
        "For **breast cancer** dataset (https://tinyurl.com/3vme8hr3) which could be loaded from datasets in sklearn as follows:\n",
        "\n",
        "```\n",
        "#Import scikit-learn dataset library\n",
        "from sklearn import datasets\n",
        "\n",
        "#Load dataset\n",
        "cancer = datasets.load_breast_cancer()\n",
        "```\n",
        "\n",
        "*   1.1.\tApply **SVM algorithm** to above dataset using linear kernel.\n",
        "*   1.2.\tCompare the obtained results with other competitive algorithms (**Logistic Regression, Decision Tree, kNN**) based on metrics: accuracy, precision, recall, f1 measures.\n",
        "\n"
      ],
      "metadata": {
        "id": "kNv07ARGzOUm"
      }
    },
    {
      "cell_type": "code",
      "source": [
        "# code"
      ],
      "metadata": {
        "id": "sOsg77IBzEyo"
      },
      "execution_count": null,
      "outputs": []
    },
    {
      "cell_type": "markdown",
      "source": [
        "#Task 2.\n",
        "\n",
        "*   2.1.\tPerform SVM algorithm to **Iris dataset** using **linear kernel**.\n",
        "*   2.2.\tCompare the obtained results in task 2.1 with **SVM** using other kernels (**Polynomial Kernel, Sigmoid Kernel, Radial Basis Function Kernel**). Some metrics could be used: **accuracy, precision, recall, f1** measures\n"
      ],
      "metadata": {
        "id": "S43IoUT-0OQq"
      }
    },
    {
      "cell_type": "code",
      "source": [
        "# code"
      ],
      "metadata": {
        "id": "_xhPpF5b033h"
      },
      "execution_count": null,
      "outputs": []
    },
    {
      "cell_type": "markdown",
      "source": [
        "#Task 3.\n",
        "Compare the performance of selected classification algorithms (**Decision Tree, kNN, Logistic Regression**) and **SVM** (using different kernels) with **FASHION** dataset based on **accuracy, precision, recall, f1** measures.\n"
      ],
      "metadata": {
        "id": "b52OPWPD2afi"
      }
    },
    {
      "cell_type": "markdown",
      "source": [
        "#Task 4.\n",
        "For a given mobile price classification dataset with the following information:\n",
        "\n",
        "*   **Attributes**: 'battery_power', 'blue', 'clock_speed', 'dual_sim', 'fc', 'four_g', 'int_memory', 'm_dep', 'mobile_wt', 'n_cores', 'pc', 'px_height',\n",
        "       'px_width', 'ram', 'sc_h', 'sc_w', 'talk_time', 'three_g',     'touch_screen', 'wifi'\n",
        "*   **class label**: ***price_range*** (0,1,2,3)\n",
        "\n"
      ],
      "metadata": {
        "id": "Z5pp7_h-aP2u"
      }
    },
    {
      "cell_type": "markdown",
      "source": [
        "#Task 4.1.\n",
        "Compare the performance of selected classification algorithms (**Decision Tree, kNN, Logistic Regression**) and **SVM** (using different kernels) with **mobile price classification** based on **accuracy, precision, recall, f1** measures."
      ],
      "metadata": {
        "id": "I348UU6nHjGl"
      }
    },
    {
      "cell_type": "code",
      "source": [
        "# code\n"
      ],
      "metadata": {
        "id": "Rw_-8FIf2KxW"
      },
      "execution_count": null,
      "outputs": []
    },
    {
      "cell_type": "markdown",
      "source": [
        "#Task 4.2.\n",
        "Predict class label for test set using the best model found in task 4.1"
      ],
      "metadata": {
        "id": "TY35jiORHPJh"
      }
    },
    {
      "cell_type": "code",
      "source": [
        "#code"
      ],
      "metadata": {
        "id": "z_irQuKyHtdP"
      },
      "execution_count": null,
      "outputs": []
    },
    {
      "cell_type": "markdown",
      "source": [
        "#Task 5.\n",
        "\n",
        "*   5.1.\tPerform SVM algorithm to **spambase dataset** using **linear kernel**.\n",
        "*   5.2.\tCompare the obtained results in task 5.1 with **SVM** using other kernels (**Polynomial Kernel, Sigmoid Kernel, Radial Basis Function Kernel**). Some metrics could be used: **accuracy, precision, recall, f1** measures"
      ],
      "metadata": {
        "id": "7SCMLfMfyWPU"
      }
    },
    {
      "cell_type": "code",
      "source": [
        "#code"
      ],
      "metadata": {
        "id": "CU4u3CvDyfxg"
      },
      "execution_count": null,
      "outputs": []
    },
    {
      "cell_type": "markdown",
      "source": [
        "#Finally,\n",
        "Save a copy in your Github. Remember renaming the notebook."
      ],
      "metadata": {
        "id": "Ok7RGkea_b7n"
      }
    }
  ]
}